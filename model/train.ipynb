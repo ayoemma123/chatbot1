{
 "cells": [
  {
   "cell_type": "code",
   "execution_count": 1,
   "id": "4f45fd41",
   "metadata": {},
   "outputs": [
    {
     "name": "stdout",
     "output_type": "stream",
     "text": [
      "Requirement already satisfied: scikit-learn in c:\\users\\ayo\\documents\\nf\\venv\\lib\\site-packages (1.7.1)\n",
      "Requirement already satisfied: pandas in c:\\users\\ayo\\documents\\nf\\venv\\lib\\site-packages (2.3.1)\n",
      "Requirement already satisfied: joblib in c:\\users\\ayo\\documents\\nf\\venv\\lib\\site-packages (1.5.1)\n",
      "Requirement already satisfied: numpy>=1.22.0 in c:\\users\\ayo\\documents\\nf\\venv\\lib\\site-packages (from scikit-learn) (2.2.6)\n",
      "Requirement already satisfied: scipy>=1.8.0 in c:\\users\\ayo\\documents\\nf\\venv\\lib\\site-packages (from scikit-learn) (1.15.3)\n",
      "Requirement already satisfied: threadpoolctl>=3.1.0 in c:\\users\\ayo\\documents\\nf\\venv\\lib\\site-packages (from scikit-learn) (3.6.0)\n",
      "Requirement already satisfied: python-dateutil>=2.8.2 in c:\\users\\ayo\\documents\\nf\\venv\\lib\\site-packages (from pandas) (2.9.0.post0)\n",
      "Requirement already satisfied: pytz>=2020.1 in c:\\users\\ayo\\documents\\nf\\venv\\lib\\site-packages (from pandas) (2025.2)\n",
      "Requirement already satisfied: tzdata>=2022.7 in c:\\users\\ayo\\documents\\nf\\venv\\lib\\site-packages (from pandas) (2025.2)\n",
      "Requirement already satisfied: six>=1.5 in c:\\users\\ayo\\documents\\nf\\venv\\lib\\site-packages (from python-dateutil>=2.8.2->pandas) (1.17.0)\n",
      "Note: you may need to restart the kernel to use updated packages.\n"
     ]
    },
    {
     "name": "stderr",
     "output_type": "stream",
     "text": [
      "\n",
      "[notice] A new release of pip is available: 25.1.1 -> 25.2\n",
      "[notice] To update, run: python.exe -m pip install --upgrade pip\n"
     ]
    }
   ],
   "source": [
    "%pip install scikit-learn pandas joblib"
   ]
  },
  {
   "cell_type": "code",
   "execution_count": 3,
   "id": "8c1af23a",
   "metadata": {},
   "outputs": [
    {
     "name": "stdout",
     "output_type": "stream",
     "text": [
      "✅ Model trained and saved as svm_chatbot.pkl\n",
      "✅ Responses saved as responses.pkl\n"
     ]
    }
   ],
   "source": [
    "import pandas as pd\n",
    "from sklearn.feature_extraction.text import TfidfVectorizer\n",
    "from sklearn.svm import LinearSVC\n",
    "from sklearn.pipeline import Pipeline\n",
    "import joblib\n",
    "\n",
    "# Load dataset\n",
    "df = pd.read_csv(\"intent.csv\", encoding=\"cp1252\")\n",
    "\n",
    "# Features = user questions, Labels = intent (not answers!)\n",
    "X = df[\"text\"]\n",
    "y = df[\"answer\"]\n",
    "\n",
    "# Build TF-IDF + SVM pipeline\n",
    "model = Pipeline([\n",
    "    ('tfidf', TfidfVectorizer(ngram_range=(1,2))),\n",
    "    ('clf', LinearSVC())\n",
    "])\n",
    "\n",
    "# Train model\n",
    "model.fit(X, y)\n",
    "\n",
    "# Save trained model\n",
    "joblib.dump(model, \"svm_chatbot.pkl\")\n",
    "print(\"✅ Model trained and saved as svm_chatbot.pkl\")\n",
    "\n",
    "# ---- Build intent → answer mapping ----\n",
    "RESPONSES = df.groupby(\"answer\")[\"answer\"].first().to_dict()\n",
    "\n",
    "# Save responses dictionary separately\n",
    "joblib.dump(RESPONSES, \"responses.pkl\")\n",
    "print(\"✅ Responses saved as responses.pkl\")\n"
   ]
  }
 ],
 "metadata": {
  "kernelspec": {
   "display_name": "venv",
   "language": "python",
   "name": "python3"
  },
  "language_info": {
   "codemirror_mode": {
    "name": "ipython",
    "version": 3
   },
   "file_extension": ".py",
   "mimetype": "text/x-python",
   "name": "python",
   "nbconvert_exporter": "python",
   "pygments_lexer": "ipython3",
   "version": "3.10.0"
  }
 },
 "nbformat": 4,
 "nbformat_minor": 5
}
